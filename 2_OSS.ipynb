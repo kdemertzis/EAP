{
  "nbformat": 4,
  "nbformat_minor": 0,
  "metadata": {
    "colab": {
      "provenance": [],
      "authorship_tag": "ABX9TyPkSnJWdBWVawexaFEhF6wd",
      "include_colab_link": true
    },
    "kernelspec": {
      "name": "python3",
      "display_name": "Python 3"
    },
    "language_info": {
      "name": "python"
    }
  },
  "cells": [
    {
      "cell_type": "markdown",
      "metadata": {
        "id": "view-in-github",
        "colab_type": "text"
      },
      "source": [
        "<a href=\"https://colab.research.google.com/github/kdemertzis/EAP/blob/main/2_OSS.ipynb\" target=\"_parent\"><img src=\"https://colab.research.google.com/assets/colab-badge.svg\" alt=\"Open In Colab\"/></a>"
      ]
    },
    {
      "cell_type": "code",
      "execution_count": 4,
      "metadata": {
        "colab": {
          "base_uri": "https://localhost:8080/"
        },
        "id": "OcP6TSHccSV_",
        "outputId": "ba644dc1-7092-4056-b4e9-bb18686c14de"
      },
      "outputs": [
        {
          "output_type": "stream",
          "name": "stdout",
          "text": [
            "Δώστε το n (1-20): 5\n",
            "*.........*\n",
            "**.......**\n",
            "***.....***\n",
            "****...****\n",
            "*****.*****\n",
            "Τέλος προγράμματος.\n"
          ]
        }
      ],
      "source": [
        "while True:     #Αρχή επανάληψης\n",
        "    try:\n",
        "        n = int(input(\"Δώστε το n (1-20): \"))  #Ορισμός μεταβλητής\n",
        "        if 1 <= n <= 20:   #Έλεγχος πεδίου μεταβλητής\n",
        "            break\n",
        "        else:\n",
        "            print(\"Ο αριθμός πρέπει να είναι μεταξύ 1 και 20.\")\n",
        "    except ValueError:    #Έλεγχος μεταβλητής ωστε να είναι ακεραίος αριθμός\n",
        "        print(\"Παρακαλώ δώστε έναν ακέραιο αριθμό.\")\n",
        "\n",
        "for i in range(1, n + 1):\n",
        "    stars = \"*\" * i       # Μεταβλητή για την ποσότητα των *\n",
        "    dots = \".\" *(2 * n - 2 * i + 1)  # Μεταβλητή για την ποσότητα των .\n",
        "    space = \"\"            # Μεταβλητή για να μην υπάρχει κενό.\n",
        "    triangle = stars + dots + stars\n",
        "    print(triangle)\n",
        "\n",
        "print(\"Τέλος προγράμματος.\")\n"
      ]
    }
  ]
}