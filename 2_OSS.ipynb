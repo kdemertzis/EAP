{
  "nbformat": 4,
  "nbformat_minor": 0,
  "metadata": {
    "colab": {
      "provenance": [],
      "authorship_tag": "ABX9TyPSV3HGSnjIry8ZoN1VKhiX",
      "include_colab_link": true
    },
    "kernelspec": {
      "name": "python3",
      "display_name": "Python 3"
    },
    "language_info": {
      "name": "python"
    }
  },
  "cells": [
    {
      "cell_type": "markdown",
      "metadata": {
        "id": "view-in-github",
        "colab_type": "text"
      },
      "source": [
        "<a href=\"https://colab.research.google.com/github/kdemertzis/EAP/blob/main/2_OSS.ipynb\" target=\"_parent\"><img src=\"https://colab.research.google.com/assets/colab-badge.svg\" alt=\"Open In Colab\"/></a>"
      ]
    },
    {
      "cell_type": "code",
      "execution_count": 4,
      "metadata": {
        "colab": {
          "base_uri": "https://localhost:8080/"
        },
        "id": "OcP6TSHccSV_",
        "outputId": "ba644dc1-7092-4056-b4e9-bb18686c14de"
      },
      "outputs": [
        {
          "output_type": "stream",
          "name": "stdout",
          "text": [
            "Δώστε το n (1-20): 5\n",
            "*.........*\n",
            "**.......**\n",
            "***.....***\n",
            "****...****\n",
            "*****.*****\n",
            "Τέλος προγράμματος.\n"
          ]
        }
      ],
      "source": [
        "while True:     #Αρχή επανάληψης\n",
        "    try:\n",
        "        n = int(input(\"Δώστε το n (1-20): \"))  #Ορισμός μεταβλητής\n",
        "        if 1 <= n <= 20:   #Έλεγχος πεδίου μεταβλητής\n",
        "            break\n",
        "        else:\n",
        "            print(\"Ο αριθμός πρέπει να είναι μεταξύ 1 και 20.\")\n",
        "    except ValueError:    #Έλεγχος μεταβλητής ωστε να είναι ακεραίος αριθμός\n",
        "        print(\"Παρακαλώ δώστε έναν ακέραιο αριθμό.\")\n",
        "\n",
        "for i in range(1, n + 1):\n",
        "    stars = \"*\" * i       # Μεταβλητή για την ποσότητα των *\n",
        "    dots = \".\" *(2 * n - 2 * i + 1)  # Μεταβλητή για την ποσότητα των .\n",
        "    space = \"\"            # Μεταβλητή για να μην υπάρχει κενό.\n",
        "    triangle = stars + dots + stars\n",
        "    print(triangle)\n",
        "\n",
        "print(\"Τέλος προγράμματος.\")\n"
      ]
    },
    {
      "cell_type": "code",
      "source": [
        "##################################################################\n",
        "##                                                              ##\n",
        "##       ΕΦΑΡΜΟΓΗ Υπολογισμού Κόστους παραγγελίας βιβλίων       ##\n",
        "##                                                              ##\n",
        "##                    Έκδοση 1 (Απλή Λύση)                      ##                                       ##\n",
        "##                                                              ##\n",
        "##################################################################\n",
        "\n",
        "print(\"\"\"\n",
        "\n",
        "Πρόγραμμα που υπολογίζει το κόστος μιας παραγγελίας βιβλίων. ​\n",
        "Το πρόγραμμα ζητάει από τον χρήστη το κόστος του βιβλίου και\n",
        "πόσα αντίτυπα περιλαμβάνει η παραγγελία και τυπώνει το κόστος παραγγελίας. ​\n",
        "\n",
        "Το βιβλιοπωλείο κάνει έκπτωση 20% στις on-line παραγγελίες.​\n",
        "\n",
        "Το κόστος αποστολής είναι 2 ευρώ για το πρώτο αντίτυπο και\n",
        "1 ευρώ για κάθε επιπλέον αντίτυπο.​\n",
        "\n",
        "\"\"\")\n",
        "\n",
        "# Υπολογισμός κόστους παραγγελίας Χ βιβλίων με κόστος Β κάθε βιβλίου\n",
        "# με κόστος kb και κόστος μεταφοράς km\n",
        "\n",
        "X = int(input(\"Πόσα βιβλία θέλετε; \"))\n",
        "B = int(input(\"Κόστος ενός βιβλίου; \"))\n",
        "\n",
        "##  Μικρή βελτίωση της λύσης\n",
        "##X = int(input(\"Πόσα αντίτυπα του βιβλίου θέλετε; \"))\n",
        "##B = float(input(\"Κόστος ενός βιβλίου; \"))\n",
        "\n",
        "print(\"\\nΚόστος παραγγελίας =\",X*B*0.8+X+1)\n"
      ],
      "metadata": {
        "colab": {
          "base_uri": "https://localhost:8080/"
        },
        "id": "Gau_nMYSf7c-",
        "outputId": "c32d5856-1d7b-4755-ab2d-01d2b3a5c0ff"
      },
      "execution_count": 5,
      "outputs": [
        {
          "output_type": "stream",
          "name": "stdout",
          "text": [
            "\n",
            "\n",
            "Πρόγραμμα που υπολογίζει το κόστος μιας παραγγελίας βιβλίων. ​\n",
            "Το πρόγραμμα ζητάει από τον χρήστη το κόστος του βιβλίου και\n",
            "πόσα αντίτυπα περιλαμβάνει η παραγγελία και τυπώνει το κόστος παραγγελίας. ​\n",
            "\n",
            "Το βιβλιοπωλείο κάνει έκπτωση 20% στις on-line παραγγελίες.​\n",
            "\n",
            "Το κόστος αποστολής είναι 2 ευρώ για το πρώτο αντίτυπο και\n",
            "1 ευρώ για κάθε επιπλέον αντίτυπο.​\n",
            "\n",
            "\n",
            "Πόσα βιβλία θέλετε; 12\n",
            "Κόστος ενός βιβλίου; 0\n",
            "\n",
            "Κόστος παραγγελίας = 13.0\n"
          ]
        }
      ]
    },
    {
      "cell_type": "markdown",
      "source": [
        "Να γράψετε εφαρμογή διαχείρισης επαφών (όνομα και τηλέφωνο) που να έχει την εξής συμπεριφορά: όταν ο χρήστης πατήσει '**+**' ζητάει όνομα και τηλέφωνο και προσθέτει τη νέα επαφή. Όταν ο χρήστης πατήσει '**?**' παρουσιάζει αλφαβητικό κατάλογο των επαφών, όταν πατήσει **enter** τερματίζει."
      ],
      "metadata": {
        "id": "A7psz1jXK-V5"
      }
    },
    {
      "cell_type": "code",
      "source": [
        "# διαχείριση επαφών\n",
        "epafes = {}\n",
        "while True:\n",
        "    reply = input('πατήστε + για νέα επαφή, ? για λίστα επαφών\\n>>>')\n",
        "    if not reply: break\n",
        "    if reply == '+':\n",
        "        name = input('όνομα:')\n",
        "        phone = input('τηλέφωνο:')\n",
        "        if name and phone: epafes[name] = phone\n",
        "        else: print('παρακαλώ δώστε στοιχεία')\n",
        "    elif reply == '?':\n",
        "        for e in sorted(epafes):\n",
        "            print('{}: {}'.format(e, epafes[e]))"
      ],
      "metadata": {
        "colab": {
          "base_uri": "https://localhost:8080/"
        },
        "id": "UtbdiFznHq1P",
        "outputId": "4ef66bfa-ae80-4327-d6c1-195048831eb2"
      },
      "execution_count": 6,
      "outputs": [
        {
          "name": "stdout",
          "output_type": "stream",
          "text": [
            "πατήστε + για νέα επαφή, ? για λίστα επαφών\n",
            ">>>?\n",
            "πατήστε + για νέα επαφή, ? για λίστα επαφών\n",
            ">>>+\n",
            "όνομα:nikos\n",
            "τηλέφωνο:69387541889\n",
            "πατήστε + για νέα επαφή, ? για λίστα επαφών\n",
            ">>>?\n",
            "nikos: 69387541889\n",
            "πατήστε + για νέα επαφή, ? για λίστα επαφών\n",
            ">>>\n"
          ]
        }
      ]
    },
    {
      "cell_type": "code",
      "source": [
        "choice = -1 # αρχικοποίηση επιλογής\n",
        "antitimo = 0 # αρχικοποίηση αντιτίμου\n",
        "# ερώτημα (α)\n",
        "while ( choice < 0 or choice > 4): # εμφάνιση επιλογών\n",
        "    print(\" Δίνονται οι παρακάτω επιλογές:\")\n",
        "    print(\" 1. Καφές: 1.5 ευρώ\")\n",
        "    print(\" 2. Καφές με γάλα: 1.8 ευρώ\")\n",
        "    print(\" 3. Σοκολάτα: 2.1 ευρώ\")\n",
        "    print(\" 4. Σοκολάτα με γάλα: 2.4 ευρώ\")\n",
        "    print(\" 0. Έξοδος\")\n",
        "    while True: # εισαγωγή επιλογής χρήστη - αμυντικός προγραμματισμός\n",
        "        try:\n",
        "            reply = input(\"Παρακαλώ εισάγετε την επιλογή σας (1-4) ή πατήστε 0 για έξοδο: \") # είσοδος επιλογής\n",
        "            choice = int(reply)\n",
        "            break # έξοδος από τη δομή while αν ο χρήστης δώσει ακέραιο αριθμό\n",
        "        except:\n",
        "            continue\n",
        "\n",
        "# ερώτημα (β)\n",
        "if (choice != 0 ):\n",
        "    if (choice == 1 ):\n",
        "        antitimo = 150\n",
        "    elif (choice == 2 ):\n",
        "        antitimo = 180\n",
        "    elif (choice == 3 ):\n",
        "        antitimo = 210\n",
        "    elif (choice == 4 ):\n",
        "        antitimo = 240\n",
        "    poso = 0    # αρχικοποίηση\n",
        "    while (poso < antitimo):    # αρχικοποίηση\n",
        "        ikerma=0\n",
        "        while (ikerma != 10 and ikerma != 20 and ikerma != 50 and ikerma != 100 and ikerma != 200 and ikerma != 500 and ikerma != 1000):\n",
        "            print(\"Πρέπει να εισάγετε\",\"{:3.1f}\".format((antitimo - poso)/100),\"ευρώ συνολικά\")\n",
        "            while True:\n",
        "                try:\n",
        "                    kerma = float(input(\"Πόσα εισάγετε; \"))\n",
        "                    break\n",
        "                except:\n",
        "                    print('παρακαλώ εισάγετε το ποσό σε ευρώ')\n",
        "            ikerma = kerma * 100\n",
        "            if (ikerma != 10 and ikerma != 20 and ikerma != 50 and ikerma != 100 and ikerma != 200 and ikerma != 500 and ikerma != 1000):\n",
        "                print(\"\\tΣΦΑΛΜΑ: εισαγωγή μη έγκυρου ποσού.\");\n",
        "                print(\"\\tΠαρακαλώ, εισάγετε μία έγκυρη τιμή: 0.1 / 0.2 / 0.5 / 1 / 2 / 5 / 10 \");\n",
        "        poso = poso + ikerma\n",
        "\n",
        "# ερώτημα (γ)\n",
        "    # υπολογισμός υπόλοιπου (ρέστα) και αριθμού κερμάτων ανά είδος κέρματος που πρέπει να επιστραφούν\n",
        "    resta = poso - antitimo # υπολογισμός υπολοίπου\n",
        "    print(\"Eπιστροφή\", \"{:3.1f}\".format(resta/100), \"ευρώ\")\n",
        "\n",
        "# ερώτημα (δ)\n",
        "    if (resta): # αν υπάρχουν ρέστα\n",
        "        print(\"Παρακαλώ πάρτε\")\n",
        "        dieura = resta // 200 # υπολογισμός επιστροφής κερμάτων 2€\n",
        "        resta = resta - 200 * dieura # ενημέρωση υπολοίπου ποσού\n",
        "        if ( dieura > 0 ):\n",
        "            print(\" δίευρα :\", int(dieura))\n",
        "        monoeura = resta // 100 # υπολογισμός επιστροφής κερμάτων 1€\n",
        "        resta = resta - 100 * monoeura # ενημέρωση υπολοίπου ποσού\n",
        "        if ( monoeura > 0 ):\n",
        "            print(\" μονόευρα :\", int(monoeura))\n",
        "        penintalepta = resta // 50 # υπολογισμός επιστροφής κερμάτων 0.5€\n",
        "        resta = resta - 50* penintalepta # ενημέρωση υπολοίπου ποσού\n",
        "        if ( penintalepta > 0 ):\n",
        "            print(\" πενηντάλεπτα:\", int(penintalepta))\n",
        "        eikosalepta = resta // 20 # υπολογισμός επιστροφής κερμάτων 0.2€\n",
        "        resta = resta - 20* eikosalepta # ενημέρωση υπολοίπου ποσού\n",
        "        if ( eikosalepta > 0 ):\n",
        "            print(\" εικοσάλεπτα:\", int(eikosalepta))\n",
        "        dekalepta = resta // 10 # υπολογισμός επιστροφής κερμάτων 0.1€\n",
        "        if ( dekalepta > 0 ):\n",
        "            print(\" δεκάλεπτα:\", int(dekalepta))\n",
        "    print(\" \")\n",
        "    print(\"\\tΟλοκληρώθηκε η εκτέλεση του προγράμματος\")\n"
      ],
      "metadata": {
        "colab": {
          "base_uri": "https://localhost:8080/"
        },
        "id": "CAXZy7YoOpk1",
        "outputId": "bd867f27-6061-4948-9a46-f1d4e4c7ab1e"
      },
      "execution_count": 7,
      "outputs": [
        {
          "output_type": "stream",
          "name": "stdout",
          "text": [
            " Δίνονται οι παρακάτω επιλογές:\n",
            " 1. Καφές: 1.5 ευρώ\n",
            " 2. Καφές με γάλα: 1.8 ευρώ\n",
            " 3. Σοκολάτα: 2.1 ευρώ\n",
            " 4. Σοκολάτα με γάλα: 2.4 ευρώ\n",
            " 0. Έξοδος\n",
            "Παρακαλώ εισάγετε την επιλογή σας (1-4) ή πατήστε 0 για έξοδο: 2\n",
            "Πρέπει να εισάγετε 1.8 ευρώ συνολικά\n",
            "Πόσα εισάγετε; 20\n",
            "\tΣΦΑΛΜΑ: εισαγωγή μη έγκυρου ποσού.\n",
            "\tΠαρακαλώ, εισάγετε μία έγκυρη τιμή: 0.1 / 0.2 / 0.5 / 1 / 2 / 5 / 10 \n",
            "Πρέπει να εισάγετε 1.8 ευρώ συνολικά\n",
            "Πόσα εισάγετε; 10\n",
            "Eπιστροφή 8.2 ευρώ\n",
            "Παρακαλώ πάρτε\n",
            " δίευρα : 4\n",
            " εικοσάλεπτα: 1\n",
            " \n",
            "\tΟλοκληρώθηκε η εκτέλεση του προγράμματος\n"
          ]
        }
      ]
    },
    {
      "cell_type": "code",
      "source": [
        "drinks = {\n",
        "    '1': ['Καφές: 1.50 €', 150],\n",
        "    '2': ['Καφές με γάλα: 1.80 €', 180],\n",
        "    '3': ['Σοκολάτα: 2.10 €', 210],\n",
        "    '4': ['Σοκολάτα με γάλα: 2.40 €', 240]\n",
        "}\n",
        "currencies = [10, 20, 50, 100, 200, 500, 1000] # accepted coins/notes\n",
        "\n",
        "def menu():\n",
        "    '''βασικό μενού επιστρέφει ως ακέραιο την επιλογή του χρήστη'''\n",
        "    print(30*\"_\")\n",
        "    for drink in drinks:\n",
        "        print(drink, drinks[drink][0])\n",
        "    print(\"0\", \"Έξοδος\")\n",
        "    print(30*\"_\")\n",
        "    while True:\n",
        "        reply = input(\"Επιλέξτε ρόφημα (1-4) ή 0 για έξοδο: \")\n",
        "        if reply in drinks.keys() or reply == '0': break\n",
        "    return int(reply)\n",
        "\n",
        "def process_payment(selection):\n",
        "    '''μηχανισμός πληρωμής με βάση την επιλογή του χρήστη'''\n",
        "    msg_currencies = '\\nΠαρακαλώ εισάγετε .10, .20, .50, 1, 2, 5, 10 € :'\n",
        "    to_pay = drinks[str(selection)][1]\n",
        "    print(f'\\nΈχει παραγγελθεί: {drinks[str(selection)][0]}\\n')\n",
        "    while True:\n",
        "        try:\n",
        "            new_payment = int(float(input(msg_currencies))*100)\n",
        "        except ValueError:\n",
        "            # print('Προσοχή επιλέξτε αποδεκτά νομίσματα')\n",
        "            continue\n",
        "        if new_payment in currencies:\n",
        "            to_pay -= new_payment\n",
        "            if to_pay > 0:\n",
        "                print(f\"Πρέπει να πληρώσετε {to_pay/100:.2f}€ ακόμη\")\n",
        "            else: break\n",
        "    manage_rest(-to_pay)\n",
        "\n",
        "def manage_rest(rest, cancel=False):\n",
        "    '''υπολογίζει και πληροφορεί τον χρήστη για τα ρέστα του'''\n",
        "    # TODO: να υλοποιήσουμε τη δυνατότητα ακύρωσης παραγγελίας ενώ γίνεται η πληρωμή\n",
        "    if rest:\n",
        "        print(f'Παρακαλώ παραλάβετε {rest/100:.2f} ρέστα...')\n",
        "        for currency in sorted(currencies[:-1], reverse=True ):\n",
        "            quantity = rest//currency\n",
        "            if quantity:\n",
        "                print(f'ρέστα: {quantity} x {currency/100:.2f}€')\n",
        "                rest -= quantity * currency\n",
        "                if not rest: break\n",
        "    if not cancel: print('\\nΑπολαύστε το ρόφημά σας...')\n",
        "\n",
        "##  κυρίως πρόγραμμα\n",
        "if __name__ == \"__main__\":\n",
        "    while True:\n",
        "        user_selection = menu()\n",
        "        if not user_selection: break\n",
        "        process_payment(user_selection)"
      ],
      "metadata": {
        "colab": {
          "base_uri": "https://localhost:8080/"
        },
        "id": "NZETvgpuO2s5",
        "outputId": "25be92fc-3ebf-4b38-d186-c1bae9c8b848"
      },
      "execution_count": 8,
      "outputs": [
        {
          "name": "stdout",
          "output_type": "stream",
          "text": [
            "______________________________\n",
            "1 Καφές: 1.50 €\n",
            "2 Καφές με γάλα: 1.80 €\n",
            "3 Σοκολάτα: 2.10 €\n",
            "4 Σοκολάτα με γάλα: 2.40 €\n",
            "0 Έξοδος\n",
            "______________________________\n",
            "Επιλέξτε ρόφημα (1-4) ή 0 για έξοδο: 6\n",
            "Επιλέξτε ρόφημα (1-4) ή 0 για έξοδο: 4\n",
            "\n",
            "Έχει παραγγελθεί: Σοκολάτα με γάλα: 2.40 €\n",
            "\n",
            "\n",
            "Παρακαλώ εισάγετε .10, .20, .50, 1, 2, 5, 10 € :5\n",
            "Παρακαλώ παραλάβετε 2.60 ρέστα...\n",
            "ρέστα: 1 x 2.00€\n",
            "ρέστα: 1 x 0.50€\n",
            "ρέστα: 1 x 0.10€\n",
            "\n",
            "Απολαύστε το ρόφημά σας...\n",
            "______________________________\n",
            "1 Καφές: 1.50 €\n",
            "2 Καφές με γάλα: 1.80 €\n",
            "3 Σοκολάτα: 2.10 €\n",
            "4 Σοκολάτα με γάλα: 2.40 €\n",
            "0 Έξοδος\n",
            "______________________________\n",
            "Επιλέξτε ρόφημα (1-4) ή 0 για έξοδο: 0\n"
          ]
        }
      ]
    }
  ]
}